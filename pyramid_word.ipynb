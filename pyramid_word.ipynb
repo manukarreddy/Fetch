{
 "cells": [
  {
   "cell_type": "code",
   "execution_count": 58,
   "metadata": {},
   "outputs": [
    {
     "name": "stdout",
     "output_type": "stream",
     "text": [
      "Enter any string:bandana\n"
     ]
    },
    {
     "data": {
      "text/plain": [
       "False"
      ]
     },
     "execution_count": 58,
     "metadata": {},
     "output_type": "execute_result"
    }
   ],
   "source": [
    "string = input(\"Enter any string:\") #give any string\n",
    "freq = dict((letter,string.count(letter)) for letter in set(string)) # letter frequencies\n",
    "l = list(freq.values()) #list of values\n",
    "l.sort() #sorted list of values\n",
    "l1=[] #empty list for sequence of numbers with length of the given string\n",
    "for i in range(len(string)):\n",
    "    l1.append(i+1)\n",
    "def sequence_match(list1,list2):#matching the sequences of two lists\n",
    "    for i in range(len(list1)):\n",
    "        if list1[i] != list2[i]:\n",
    "            return False\n",
    "    return True\n",
    "sequence_match(l,l1)\n",
    "\n",
    "\n"
   ]
  }
 ],
 "metadata": {
  "kernelspec": {
   "display_name": "Python 3",
   "language": "python",
   "name": "python3"
  },
  "language_info": {
   "codemirror_mode": {
    "name": "ipython",
    "version": 3
   },
   "file_extension": ".py",
   "mimetype": "text/x-python",
   "name": "python",
   "nbconvert_exporter": "python",
   "pygments_lexer": "ipython3",
   "version": "3.6.8"
  }
 },
 "nbformat": 4,
 "nbformat_minor": 2
}
